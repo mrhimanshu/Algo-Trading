{
 "cells": [
  {
   "cell_type": "code",
   "execution_count": 1,
   "metadata": {},
   "outputs": [],
   "source": [
    "import torch"
   ]
  },
  {
   "cell_type": "code",
   "execution_count": 2,
   "metadata": {},
   "outputs": [
    {
     "name": "stdout",
     "output_type": "stream",
     "text": [
      "Available GPU devices: 1\n"
     ]
    }
   ],
   "source": [
    "print(f'Available GPU devices: {torch.cuda.device_count()}')"
   ]
  },
  {
   "cell_type": "code",
   "execution_count": 3,
   "metadata": {},
   "outputs": [
    {
     "name": "stderr",
     "output_type": "stream",
     "text": [
      "c:\\Users\\hsain\\.conda\\envs\\stock\\lib\\site-packages\\stable_baselines3\\common\\cmd_util.py:6: FutureWarning: Module ``common.cmd_util`` has been renamed to ``common.env_util`` and will be removed in the future.\n",
      "  \"Module ``common.cmd_util`` has been renamed to ``common.env_util`` and will be removed in the future.\", FutureWarning\n"
     ]
    }
   ],
   "source": [
    "##Importing dependencies\n",
    "\n",
    "import gym\n",
    "import gym_anytrading\n",
    "from gym_anytrading.envs import TradingEnv, ForexEnv, StocksEnv, Actions, Positions\n",
    "\n",
    "import pandas as pd\n",
    "import numpy as np\n",
    "np.set_printoptions(suppress=True, formatter={'float_kind':'{:f}'.format})\n",
    "\n",
    "from stable_baselines3.common.vec_env import DummyVecEnv, SubprocVecEnv\n",
    "from stable_baselines3.common.evaluation import evaluate_policy\n",
    "from stable_baselines3 import PPO, A2C, DQN\n",
    "from stable_baselines3.common.cmd_util import make_vec_env\n",
    "\n",
    "from sklearn.preprocessing import MinMaxScaler\n",
    "import matplotlib.pyplot as plt\n",
    "\n",
    "import os\n",
    "import talib\n",
    "\n",
    "import torch as th\n",
    "\n",
    "from custom_rl_policy import CustomActorCriticPolicy\n",
    "CUDA_LAUNCH_BLOCKING=1"
   ]
  },
  {
   "cell_type": "code",
   "execution_count": 4,
   "metadata": {},
   "outputs": [],
   "source": [
    "df = pd.read_csv(\"SilverMicro.csv\")"
   ]
  },
  {
   "cell_type": "code",
   "execution_count": 5,
   "metadata": {},
   "outputs": [
    {
     "data": {
      "text/html": [
       "<div>\n",
       "<style scoped>\n",
       "    .dataframe tbody tr th:only-of-type {\n",
       "        vertical-align: middle;\n",
       "    }\n",
       "\n",
       "    .dataframe tbody tr th {\n",
       "        vertical-align: top;\n",
       "    }\n",
       "\n",
       "    .dataframe thead th {\n",
       "        text-align: right;\n",
       "    }\n",
       "</style>\n",
       "<table border=\"1\" class=\"dataframe\">\n",
       "  <thead>\n",
       "    <tr style=\"text-align: right;\">\n",
       "      <th></th>\n",
       "      <th>Date</th>\n",
       "      <th>Price</th>\n",
       "      <th>Open</th>\n",
       "      <th>High</th>\n",
       "      <th>Low</th>\n",
       "      <th>Volume</th>\n",
       "      <th>Chg%</th>\n",
       "    </tr>\n",
       "  </thead>\n",
       "  <tbody>\n",
       "    <tr>\n",
       "      <th>0</th>\n",
       "      <td>Mar 03, 2023</td>\n",
       "      <td>64,742</td>\n",
       "      <td>64,540</td>\n",
       "      <td>64,800</td>\n",
       "      <td>64,540</td>\n",
       "      <td>35.45K</td>\n",
       "      <td>0.65%</td>\n",
       "    </tr>\n",
       "    <tr>\n",
       "      <th>1</th>\n",
       "      <td>Mar 02, 2023</td>\n",
       "      <td>64,324</td>\n",
       "      <td>64,627</td>\n",
       "      <td>64,781</td>\n",
       "      <td>64,161</td>\n",
       "      <td>118.71K</td>\n",
       "      <td>-0.69%</td>\n",
       "    </tr>\n",
       "    <tr>\n",
       "      <th>2</th>\n",
       "      <td>Mar 01, 2023</td>\n",
       "      <td>64,774</td>\n",
       "      <td>64,950</td>\n",
       "      <td>65,280</td>\n",
       "      <td>64,639</td>\n",
       "      <td>154.67K</td>\n",
       "      <td>2.37%</td>\n",
       "    </tr>\n",
       "  </tbody>\n",
       "</table>\n",
       "</div>"
      ],
      "text/plain": [
       "           Date   Price    Open    High     Low   Volume    Chg%\n",
       "0  Mar 03, 2023  64,742  64,540  64,800  64,540   35.45K   0.65%\n",
       "1  Mar 02, 2023  64,324  64,627  64,781  64,161  118.71K  -0.69%\n",
       "2  Mar 01, 2023  64,774  64,950  65,280  64,639  154.67K   2.37%"
      ]
     },
     "execution_count": 5,
     "metadata": {},
     "output_type": "execute_result"
    }
   ],
   "source": [
    "df.head(3)"
   ]
  },
  {
   "cell_type": "code",
   "execution_count": 6,
   "metadata": {},
   "outputs": [],
   "source": [
    "df[\"Date\"] = pd.to_datetime(df[\"Date\"])"
   ]
  },
  {
   "cell_type": "code",
   "execution_count": 7,
   "metadata": {},
   "outputs": [
    {
     "data": {
      "text/plain": [
       "Date      datetime64[ns]\n",
       "Price             object\n",
       "Open              object\n",
       "High              object\n",
       "Low               object\n",
       "Volume            object\n",
       "Chg%              object\n",
       "dtype: object"
      ]
     },
     "execution_count": 7,
     "metadata": {},
     "output_type": "execute_result"
    }
   ],
   "source": [
    "df.dtypes"
   ]
  },
  {
   "cell_type": "code",
   "execution_count": 8,
   "metadata": {},
   "outputs": [],
   "source": [
    "df[\"Price\"] = df[\"Price\"].apply(lambda x: float(x.replace(\",\",\"\")))\n",
    "df[\"Open\"] = df[\"Open\"].apply(lambda x: float(x.replace(\",\",\"\")))\n",
    "df[\"High\"] = df[\"High\"].apply(lambda x: float(x.replace(\",\",\"\")))\n",
    "df[\"Low\"] = df[\"Low\"].apply(lambda x: float(x.replace(\",\",\"\")))\n",
    "df[\"Volume\"] = df[\"Volume\"].apply(lambda x: (x.replace(\",\",\"\")))\n",
    "df[\"Volume\"] = df[\"Volume\"].apply(lambda x: (x.replace(\"K\",\"\")))\n",
    "df[\"Volume\"] = df[\"Volume\"].apply(lambda x: (float(x) * 1000))"
   ]
  },
  {
   "cell_type": "code",
   "execution_count": 9,
   "metadata": {},
   "outputs": [],
   "source": [
    "df.dropna(inplace=True)"
   ]
  },
  {
   "cell_type": "code",
   "execution_count": 10,
   "metadata": {},
   "outputs": [
    {
     "data": {
      "text/html": [
       "<div>\n",
       "<style scoped>\n",
       "    .dataframe tbody tr th:only-of-type {\n",
       "        vertical-align: middle;\n",
       "    }\n",
       "\n",
       "    .dataframe tbody tr th {\n",
       "        vertical-align: top;\n",
       "    }\n",
       "\n",
       "    .dataframe thead th {\n",
       "        text-align: right;\n",
       "    }\n",
       "</style>\n",
       "<table border=\"1\" class=\"dataframe\">\n",
       "  <thead>\n",
       "    <tr style=\"text-align: right;\">\n",
       "      <th></th>\n",
       "      <th>Date</th>\n",
       "      <th>Price</th>\n",
       "      <th>Open</th>\n",
       "      <th>High</th>\n",
       "      <th>Low</th>\n",
       "      <th>Volume</th>\n",
       "      <th>Chg%</th>\n",
       "    </tr>\n",
       "  </thead>\n",
       "  <tbody>\n",
       "    <tr>\n",
       "      <th>1824</th>\n",
       "      <td>2016-02-01</td>\n",
       "      <td>34880.0</td>\n",
       "      <td>34800.0</td>\n",
       "      <td>35062.0</td>\n",
       "      <td>34625.0</td>\n",
       "      <td>45000.0</td>\n",
       "      <td>0.33%</td>\n",
       "    </tr>\n",
       "    <tr>\n",
       "      <th>1823</th>\n",
       "      <td>2016-02-02</td>\n",
       "      <td>34804.0</td>\n",
       "      <td>34840.0</td>\n",
       "      <td>35091.0</td>\n",
       "      <td>34729.0</td>\n",
       "      <td>41870.0</td>\n",
       "      <td>-0.22%</td>\n",
       "    </tr>\n",
       "    <tr>\n",
       "      <th>1822</th>\n",
       "      <td>2016-02-03</td>\n",
       "      <td>35741.0</td>\n",
       "      <td>34865.0</td>\n",
       "      <td>35799.0</td>\n",
       "      <td>34850.0</td>\n",
       "      <td>73570.0</td>\n",
       "      <td>2.69%</td>\n",
       "    </tr>\n",
       "    <tr>\n",
       "      <th>1821</th>\n",
       "      <td>2016-02-04</td>\n",
       "      <td>35847.0</td>\n",
       "      <td>35622.0</td>\n",
       "      <td>35997.0</td>\n",
       "      <td>35561.0</td>\n",
       "      <td>48480.0</td>\n",
       "      <td>0.30%</td>\n",
       "    </tr>\n",
       "  </tbody>\n",
       "</table>\n",
       "</div>"
      ],
      "text/plain": [
       "           Date    Price     Open     High      Low   Volume    Chg%\n",
       "1824 2016-02-01  34880.0  34800.0  35062.0  34625.0  45000.0   0.33%\n",
       "1823 2016-02-02  34804.0  34840.0  35091.0  34729.0  41870.0  -0.22%\n",
       "1822 2016-02-03  35741.0  34865.0  35799.0  34850.0  73570.0   2.69%\n",
       "1821 2016-02-04  35847.0  35622.0  35997.0  35561.0  48480.0   0.30%"
      ]
     },
     "execution_count": 10,
     "metadata": {},
     "output_type": "execute_result"
    }
   ],
   "source": [
    "df.sort_values('Date', ascending=True, inplace=True)\n",
    "df.head(4)"
   ]
  },
  {
   "cell_type": "code",
   "execution_count": 11,
   "metadata": {},
   "outputs": [],
   "source": [
    "new_df = df"
   ]
  },
  {
   "cell_type": "code",
   "execution_count": 12,
   "metadata": {},
   "outputs": [
    {
     "data": {
      "text/html": [
       "<div>\n",
       "<style scoped>\n",
       "    .dataframe tbody tr th:only-of-type {\n",
       "        vertical-align: middle;\n",
       "    }\n",
       "\n",
       "    .dataframe tbody tr th {\n",
       "        vertical-align: top;\n",
       "    }\n",
       "\n",
       "    .dataframe thead th {\n",
       "        text-align: right;\n",
       "    }\n",
       "</style>\n",
       "<table border=\"1\" class=\"dataframe\">\n",
       "  <thead>\n",
       "    <tr style=\"text-align: right;\">\n",
       "      <th></th>\n",
       "      <th>Date</th>\n",
       "      <th>Price</th>\n",
       "      <th>Open</th>\n",
       "      <th>High</th>\n",
       "      <th>Low</th>\n",
       "      <th>Volume</th>\n",
       "      <th>Chg%</th>\n",
       "    </tr>\n",
       "  </thead>\n",
       "  <tbody>\n",
       "    <tr>\n",
       "      <th>1824</th>\n",
       "      <td>2016-02-01</td>\n",
       "      <td>34880.0</td>\n",
       "      <td>34800.0</td>\n",
       "      <td>35062.0</td>\n",
       "      <td>34625.0</td>\n",
       "      <td>45000.0</td>\n",
       "      <td>0.33%</td>\n",
       "    </tr>\n",
       "    <tr>\n",
       "      <th>1823</th>\n",
       "      <td>2016-02-02</td>\n",
       "      <td>34804.0</td>\n",
       "      <td>34840.0</td>\n",
       "      <td>35091.0</td>\n",
       "      <td>34729.0</td>\n",
       "      <td>41870.0</td>\n",
       "      <td>-0.22%</td>\n",
       "    </tr>\n",
       "    <tr>\n",
       "      <th>1822</th>\n",
       "      <td>2016-02-03</td>\n",
       "      <td>35741.0</td>\n",
       "      <td>34865.0</td>\n",
       "      <td>35799.0</td>\n",
       "      <td>34850.0</td>\n",
       "      <td>73570.0</td>\n",
       "      <td>2.69%</td>\n",
       "    </tr>\n",
       "    <tr>\n",
       "      <th>1821</th>\n",
       "      <td>2016-02-04</td>\n",
       "      <td>35847.0</td>\n",
       "      <td>35622.0</td>\n",
       "      <td>35997.0</td>\n",
       "      <td>35561.0</td>\n",
       "      <td>48480.0</td>\n",
       "      <td>0.30%</td>\n",
       "    </tr>\n",
       "    <tr>\n",
       "      <th>1820</th>\n",
       "      <td>2016-02-05</td>\n",
       "      <td>35813.0</td>\n",
       "      <td>35870.0</td>\n",
       "      <td>36100.0</td>\n",
       "      <td>35540.0</td>\n",
       "      <td>54660.0</td>\n",
       "      <td>-0.09%</td>\n",
       "    </tr>\n",
       "  </tbody>\n",
       "</table>\n",
       "</div>"
      ],
      "text/plain": [
       "           Date    Price     Open     High      Low   Volume    Chg%\n",
       "1824 2016-02-01  34880.0  34800.0  35062.0  34625.0  45000.0   0.33%\n",
       "1823 2016-02-02  34804.0  34840.0  35091.0  34729.0  41870.0  -0.22%\n",
       "1822 2016-02-03  35741.0  34865.0  35799.0  34850.0  73570.0   2.69%\n",
       "1821 2016-02-04  35847.0  35622.0  35997.0  35561.0  48480.0   0.30%\n",
       "1820 2016-02-05  35813.0  35870.0  36100.0  35540.0  54660.0  -0.09%"
      ]
     },
     "execution_count": 12,
     "metadata": {},
     "output_type": "execute_result"
    }
   ],
   "source": [
    "new_df.head()"
   ]
  },
  {
   "cell_type": "code",
   "execution_count": 13,
   "metadata": {},
   "outputs": [],
   "source": [
    "new_df.rename(columns={\"Price\":\"Close\"}, inplace=True)"
   ]
  },
  {
   "cell_type": "code",
   "execution_count": 14,
   "metadata": {},
   "outputs": [],
   "source": [
    "# new_df.set_index(\"Date\", inplace=True)"
   ]
  },
  {
   "attachments": {},
   "cell_type": "markdown",
   "metadata": {},
   "source": [
    "Custom indicator"
   ]
  },
  {
   "cell_type": "code",
   "execution_count": 15,
   "metadata": {},
   "outputs": [],
   "source": [
    "# !pip install finta"
   ]
  },
  {
   "cell_type": "code",
   "execution_count": 16,
   "metadata": {},
   "outputs": [],
   "source": [
    "from gym_anytrading.envs import StocksEnv\n",
    "from finta import TA ##Technical indicator"
   ]
  },
  {
   "cell_type": "code",
   "execution_count": 17,
   "metadata": {},
   "outputs": [],
   "source": [
    "# df[\"Volume\"] = df[\"Volume\"].apply(lambda x: float(x.replace(\",\",\"\")))"
   ]
  },
  {
   "cell_type": "code",
   "execution_count": 18,
   "metadata": {},
   "outputs": [],
   "source": [
    "new_df['sma'] = talib.SMA(new_df['Close'])\n",
    "\n",
    "new_df['5sma'] = talib.SMA(new_df['Close'], timeperiod=5)\n",
    "\n",
    "new_df['20sma'] = talib.SMA(new_df['Close'], timeperiod=20)\n",
    "\n",
    "new_df['bb_upper'], new_df['bb_middle'], new_df['bb_lower'] = talib.BBANDS(new_df['Close'], matype=talib.MA_Type.T3)\n",
    "\n",
    "new_df['bb_sell'] = (new_df['Close'] > new_df['bb_upper'])*1\n",
    "\n",
    "new_df['bb_buy'] = (new_df['Close'] < new_df['bb_lower'])*1\n",
    "\n",
    "new_df['bb_squeeze'] = (new_df['bb_upper'] - new_df['bb_lower'])/new_df['bb_middle']\n",
    "\n",
    "new_df['mom'] = talib.MOM(new_df['Close'], timeperiod=10)\n",
    "\n",
    "new_df['adx'] = talib.ADX(new_df['High'], new_df['Low'], new_df['Close'], timeperiod=10)\n",
    "\n",
    "new_df['mfi'] = talib.MFI(new_df['High'], new_df['Low'], new_df['Close'], new_df['Volume'], timeperiod=10)\n",
    "\n",
    "new_df['rsi'] = talib.RSI(new_df['Close'], timeperiod=10)\n",
    "\n",
    "\n",
    "# new_df['trange'] = talib.TRANGE(new_df['High'], new_df['Low'], new_df['Close'])\n",
    "\n",
    "\n",
    "# new_df['bop'] = talib.BOP(new_df['Open'], new_df['High'], new_df['Low'], new_df['Close'])\n",
    "\n",
    "# new_df['cci'] = talib.CCI(new_df['High'], new_df['Low'], new_df['Close'], timeperiod=14)\n",
    "\n",
    "new_df['STOCHRSI'] = talib.STOCHRSI(new_df['Close'],timeperiod=14,fastk_period=14,fastd_period=3,fastd_matype=0)[0]\n",
    "\n",
    "slowk, slowd = talib.STOCH(new_df['High'], new_df['Low'], new_df['Close'], fastk_period=14,slowk_period=3,slowk_matype=0,slowd_period=3,slowd_matype=0)\n",
    "\n",
    "macd, macdsignal, macdhist = talib.MACD(new_df['Close'], fastperiod=12, slowperiod=26, signalperiod=9)\n",
    "\n",
    "new_df['slowk'] = slowk\n",
    "\n",
    "new_df['slowd'] = slowd\n",
    "\n",
    "new_df['macd'] = macd\n",
    "\n",
    "new_df['macdsignal'] = macdsignal\n",
    "\n",
    "new_df['macdhist'] = macdhist\n",
    "\n",
    "new_df['NATR'] = talib.NATR(new_df['High'].ffill(), new_df['Low'].ffill(), new_df['Close'].ffill())\n",
    "\n",
    "new_df['KAMA'] = talib.KAMA(new_df['Close'], timeperiod=10)\n",
    "\n",
    "new_df['MAMA'], new_df['FAMA'] = talib.MAMA(new_df['Close'])\n",
    "\n",
    "new_df['MAMA_buy'] = np.where((new_df['MAMA'] < new_df['FAMA']), 1, 0)\n",
    "\n",
    "new_df['KAMA_buy'] = np.where((new_df['Close'] < new_df['KAMA']), 1, 0)\n",
    "\n",
    "new_df['sma_buy'] = np.where((new_df['Close'] < new_df['5sma']), 1, 0)\n",
    "\n",
    "new_df['maco'] = np.where((new_df['5sma'] < new_df['20sma']), 1, 0)\n",
    "\n",
    "new_df['rsi_buy'] = np.where((new_df['rsi'] < 30), 1, 0)\n",
    "\n",
    "new_df['rsi_sell'] = np.where((new_df['rsi'] > 70), 1, 0)\n",
    "\n",
    "new_df['macd_buy_sell'] = np.where((new_df['macd'] < new_df['macdsignal']), 1, 0)\n",
    "\n",
    "new_df.fillna(0, inplace=True)"
   ]
  },
  {
   "cell_type": "code",
   "execution_count": 19,
   "metadata": {},
   "outputs": [],
   "source": [
    "new_df.set_index(\"Date\", inplace=True)"
   ]
  },
  {
   "cell_type": "code",
   "execution_count": 20,
   "metadata": {},
   "outputs": [
    {
     "data": {
      "text/plain": [
       "Index(['Close', 'Open', 'High', 'Low', 'Volume', 'Chg%', 'sma', '5sma',\n",
       "       '20sma', 'bb_upper', 'bb_middle', 'bb_lower', 'bb_sell', 'bb_buy',\n",
       "       'bb_squeeze', 'mom', 'adx', 'mfi', 'rsi', 'STOCHRSI', 'slowk', 'slowd',\n",
       "       'macd', 'macdsignal', 'macdhist', 'NATR', 'KAMA', 'MAMA', 'FAMA',\n",
       "       'MAMA_buy', 'KAMA_buy', 'sma_buy', 'maco', 'rsi_buy', 'rsi_sell',\n",
       "       'macd_buy_sell'],\n",
       "      dtype='object')"
      ]
     },
     "execution_count": 20,
     "metadata": {},
     "output_type": "execute_result"
    }
   ],
   "source": [
    "new_df.columns"
   ]
  },
  {
   "cell_type": "code",
   "execution_count": 21,
   "metadata": {},
   "outputs": [],
   "source": [
    "# new_df[\"SMA_5\"] = TA.SMA(new_df, 5)\n",
    "# new_df[\"SMA_20\"] = TA.SMA(new_df, 20)\n",
    "# new_df[\"SMA_50\"] = TA.SMA(new_df, 50)\n",
    "# new_df[\"SMA_200\"] = TA.SMA(new_df, 200)\n",
    "# bb_band= TA.BBANDS(new_df, 20)\n",
    "# new_df = pd.concat([new_df, bb_band], axis=1)\n",
    "# new_df[\"RSI\"] = TA.RSI(new_df,10)\n",
    "# macd = TA.VW_MACD(new_df)\n",
    "# new_df = pd.concat([new_df, macd], axis=1)\n",
    "# new_df['OBV'] = TA.OBV(new_df)\n",
    "# new_df[\"S_RSI\"] = TA.STOCHRSI(new_df)\n",
    "# new_df.fillna(0, inplace=True)"
   ]
  },
  {
   "cell_type": "code",
   "execution_count": 22,
   "metadata": {},
   "outputs": [],
   "source": [
    "## Create Env\n",
    "def add_signals(env):\n",
    "    start = env.frame_bound[0] - env.window_size\n",
    "    end = env.frame_bound[1]\n",
    "    prices = env.df.loc[:, 'Low'].to_numpy()[start:end]\n",
    "    # signal_features = env.df.loc[:, ['Open', 'High', 'Low', 'Close', 'Volume','SMA_20','SMA_50','SMA_200','RSI', 'OBV','BB_UPPER','BB_MIDDLE','BB_LOWER','MACD','SIGNAL','S_RSI']].to_numpy()[start:end]\n",
    "    signal_features = env.df.loc[:, ['Open', 'High', 'Low', 'Close', 'Volume', 'sma', '5sma', '20sma',\n",
    "       'bb_upper', 'bb_middle', 'bb_lower', 'bb_sell', 'bb_buy', 'bb_squeeze',\n",
    "       'mom', 'adx', 'mfi', 'rsi', 'STOCHRSI', 'slowk', 'slowd', 'macd',\n",
    "       'macdsignal', 'macdhist', 'NATR', 'KAMA', 'MAMA', 'FAMA', 'MAMA_buy',\n",
    "       'KAMA_buy', 'sma_buy', 'maco', 'rsi_buy', 'rsi_sell', 'macd_buy_sell']].to_numpy()[start:end]\n",
    "    return prices, signal_features\n"
   ]
  },
  {
   "cell_type": "code",
   "execution_count": 23,
   "metadata": {},
   "outputs": [
    {
     "data": {
      "text/plain": [
       "(1825, 36)"
      ]
     },
     "execution_count": 23,
     "metadata": {},
     "output_type": "execute_result"
    }
   ],
   "source": [
    "new_df.shape"
   ]
  },
  {
   "cell_type": "code",
   "execution_count": 24,
   "metadata": {},
   "outputs": [],
   "source": [
    "from typing import Callable\n",
    "\n",
    "def linear_schedule(initial_value: float) -> Callable[[float], float]:\n",
    "    \"\"\"\n",
    "    Linear learning rate schedule.\n",
    "\n",
    "    :param initial_value: Initial learning rate.\n",
    "    :return: schedule that computes\n",
    "      current learning rate depending on remaining progress\n",
    "    \"\"\"\n",
    "    def func(progress_remaining: float) -> float:\n",
    "        \"\"\"\n",
    "        Progress will decrease from 1 (beginning) to 0.\n",
    "\n",
    "        :param progress_remaining:\n",
    "        :return: current learning rate\n",
    "        \"\"\"\n",
    "        return progress_remaining * initial_value\n",
    "\n",
    "    return func"
   ]
  },
  {
   "cell_type": "code",
   "execution_count": 25,
   "metadata": {},
   "outputs": [],
   "source": [
    "from stable_baselines3.common.callbacks import BaseCallback\n",
    "class EntropyScheduleCallback(BaseCallback):\n",
    "    \"\"\"\n",
    "    A callback class to adjust the entropy coefficient over time during training.\n",
    "    \"\"\"\n",
    "\n",
    "    def __init__(self, ent_coef_schedule):\n",
    "        super().__init__()\n",
    "        self.ent_coef_schedule = ent_coef_schedule\n",
    "\n",
    "    def _on_training_start(self) -> None:\n",
    "        self.model.ent_coef = self.ent_coef_schedule(0)\n",
    "\n",
    "    def _on_step(self) -> bool:\n",
    "        t = self.num_timesteps\n",
    "        self.model.ent_coef = self.ent_coef_schedule(t)\n",
    "        return True\n",
    "\n",
    "def ent_coef_schedule(t):\n",
    "    \"\"\"\n",
    "    A custom function to adjust the entropy coefficient over time during training.\n",
    "    \"\"\"\n",
    "    if t < 10000:\n",
    "        return 0.1\n",
    "    elif t < 20000:\n",
    "        return 0.2\n",
    "    else:\n",
    "        return 0.3"
   ]
  },
  {
   "cell_type": "code",
   "execution_count": 26,
   "metadata": {},
   "outputs": [],
   "source": [
    "class MyCustomEnv(StocksEnv):\n",
    "    _process_data = add_signals #Native function _process_data\n",
    "    \n",
    "# env2 = MyCustomEnv(df=new_df, window_size=12, frame_bound=(43+20,1750))\n",
    "env2 = MyCustomEnv(df=new_df, window_size=12, frame_bound=(1000,1750))"
   ]
  },
  {
   "cell_type": "code",
   "execution_count": 27,
   "metadata": {},
   "outputs": [
    {
     "data": {
      "text/plain": [
       "array([45315.000000, 45687.000000, 44351.000000, 44459.000000,\n",
       "       84560.000000, 45043.566667, 44640.800000, 44464.600000,\n",
       "       45365.808079, 44591.269868, 43816.731658, 0.000000, 0.000000,\n",
       "       0.034739, -355.000000, 18.852156, 45.635004, 46.041479, 40.704589,\n",
       "       65.504258, 66.859278, -203.573513, -280.758432, 77.184919,\n",
       "       1.567155, 44974.359468, 44572.978762, 44872.835939, 1.000000,\n",
       "       1.000000, 1.000000, 0.000000, 0.000000, 0.000000, 0.000000])"
      ]
     },
     "execution_count": 27,
     "metadata": {},
     "output_type": "execute_result"
    }
   ],
   "source": [
    "env2.signal_features[0]"
   ]
  },
  {
   "cell_type": "code",
   "execution_count": 28,
   "metadata": {},
   "outputs": [
    {
     "data": {
      "text/plain": [
       "44351.0"
      ]
     },
     "execution_count": 28,
     "metadata": {},
     "output_type": "execute_result"
    }
   ],
   "source": [
    "env2.prices[0]"
   ]
  },
  {
   "cell_type": "code",
   "execution_count": 29,
   "metadata": {},
   "outputs": [],
   "source": [
    "# list of envs \n",
    "# num_envs = 3\n",
    "# env_2 = [lambda: env2 for i in range(num_envs)]\n",
    "\n",
    "# Vec Env \n",
    "# env_2 = SubprocVecEnv(env_2)\n",
    "env_maker_2 = lambda: env2\n",
    "# env_2 = DummyVecEnv([env_maker_2])\n",
    "env_2 = make_vec_env(env_maker_2, n_envs=2, vec_env_cls=SubprocVecEnv)"
   ]
  },
  {
   "cell_type": "code",
   "execution_count": 30,
   "metadata": {},
   "outputs": [],
   "source": [
    "log_path = os.path.join(\"Training\",\"Logs\")\n",
    "# training_log_path = os.path.join(log_path, 'PPO_3')"
   ]
  },
  {
   "cell_type": "code",
   "execution_count": 31,
   "metadata": {},
   "outputs": [],
   "source": [
    "entropy_schedule_callback = EntropyScheduleCallback(ent_coef_schedule)"
   ]
  },
  {
   "cell_type": "code",
   "execution_count": 34,
   "metadata": {},
   "outputs": [
    {
     "name": "stdout",
     "output_type": "stream",
     "text": [
      "Using cpu device\n"
     ]
    },
    {
     "ename": "RuntimeError",
     "evalue": "[enforce fail at ..\\c10\\core\\CPUAllocator.cpp:76] data. DefaultCPUAllocator: not enough memory: you tried to allocate 34681651200 bytes.",
     "output_type": "error",
     "traceback": [
      "\u001b[1;31m---------------------------------------------------------------------------\u001b[0m",
      "\u001b[1;31mRuntimeError\u001b[0m                              Traceback (most recent call last)",
      "\u001b[1;32m<ipython-input-34-d5e5ca82e628>\u001b[0m in \u001b[0;36m<module>\u001b[1;34m\u001b[0m\n\u001b[0;32m      2\u001b[0m \u001b[1;31m#                      net_arch=[dict(pi=[256, 128, 128, 64, 64], vf=[256, 128, 128, 64, 64])])\u001b[0m\u001b[1;33m\u001b[0m\u001b[1;33m\u001b[0m\u001b[1;33m\u001b[0m\u001b[0m\n\u001b[0;32m      3\u001b[0m \u001b[1;33m\u001b[0m\u001b[0m\n\u001b[1;32m----> 4\u001b[1;33m \u001b[0mmodel_2\u001b[0m \u001b[1;33m=\u001b[0m \u001b[0mPPO\u001b[0m\u001b[1;33m(\u001b[0m\u001b[0mCustomActorCriticPolicy\u001b[0m\u001b[1;33m,\u001b[0m \u001b[0menv_2\u001b[0m\u001b[1;33m,\u001b[0m \u001b[0mverbose\u001b[0m\u001b[1;33m=\u001b[0m\u001b[1;36m1\u001b[0m\u001b[1;33m,\u001b[0m \u001b[0mtensorboard_log\u001b[0m\u001b[1;33m=\u001b[0m\u001b[0mlog_path\u001b[0m\u001b[1;33m,\u001b[0m \u001b[0mdevice\u001b[0m\u001b[1;33m=\u001b[0m\u001b[1;34m\"cpu\"\u001b[0m\u001b[1;33m,\u001b[0m \u001b[0mlearning_rate\u001b[0m\u001b[1;33m=\u001b[0m\u001b[0mlinear_schedule\u001b[0m\u001b[1;33m(\u001b[0m\u001b[1;36m0.007\u001b[0m\u001b[1;33m)\u001b[0m\u001b[1;33m)\u001b[0m\u001b[1;33m\u001b[0m\u001b[1;33m\u001b[0m\u001b[0m\n\u001b[0m\u001b[0;32m      5\u001b[0m \u001b[0mmodel_2\u001b[0m\u001b[1;33m.\u001b[0m\u001b[0mlearn\u001b[0m\u001b[1;33m(\u001b[0m\u001b[0mtotal_timesteps\u001b[0m\u001b[1;33m=\u001b[0m\u001b[1;36m10000000\u001b[0m\u001b[1;33m,\u001b[0m \u001b[0mcallback\u001b[0m\u001b[1;33m=\u001b[0m\u001b[0mentropy_schedule_callback\u001b[0m\u001b[1;33m)\u001b[0m\u001b[1;33m\u001b[0m\u001b[1;33m\u001b[0m\u001b[0m\n",
      "\u001b[1;32mc:\\Users\\hsain\\.conda\\envs\\stock\\lib\\site-packages\\stable_baselines3\\ppo\\ppo.py\u001b[0m in \u001b[0;36m__init__\u001b[1;34m(self, policy, env, learning_rate, n_steps, batch_size, n_epochs, gamma, gae_lambda, clip_range, clip_range_vf, ent_coef, vf_coef, max_grad_norm, use_sde, sde_sample_freq, target_kl, tensorboard_log, create_eval_env, policy_kwargs, verbose, seed, device, _init_setup_model)\u001b[0m\n\u001b[0;32m    150\u001b[0m \u001b[1;33m\u001b[0m\u001b[0m\n\u001b[0;32m    151\u001b[0m         \u001b[1;32mif\u001b[0m \u001b[0m_init_setup_model\u001b[0m\u001b[1;33m:\u001b[0m\u001b[1;33m\u001b[0m\u001b[1;33m\u001b[0m\u001b[0m\n\u001b[1;32m--> 152\u001b[1;33m             \u001b[0mself\u001b[0m\u001b[1;33m.\u001b[0m\u001b[0m_setup_model\u001b[0m\u001b[1;33m(\u001b[0m\u001b[1;33m)\u001b[0m\u001b[1;33m\u001b[0m\u001b[1;33m\u001b[0m\u001b[0m\n\u001b[0m\u001b[0;32m    153\u001b[0m \u001b[1;33m\u001b[0m\u001b[0m\n\u001b[0;32m    154\u001b[0m     \u001b[1;32mdef\u001b[0m \u001b[0m_setup_model\u001b[0m\u001b[1;33m(\u001b[0m\u001b[0mself\u001b[0m\u001b[1;33m)\u001b[0m \u001b[1;33m->\u001b[0m \u001b[1;32mNone\u001b[0m\u001b[1;33m:\u001b[0m\u001b[1;33m\u001b[0m\u001b[1;33m\u001b[0m\u001b[0m\n",
      "\u001b[1;32mc:\\Users\\hsain\\.conda\\envs\\stock\\lib\\site-packages\\stable_baselines3\\ppo\\ppo.py\u001b[0m in \u001b[0;36m_setup_model\u001b[1;34m(self)\u001b[0m\n\u001b[0;32m    153\u001b[0m \u001b[1;33m\u001b[0m\u001b[0m\n\u001b[0;32m    154\u001b[0m     \u001b[1;32mdef\u001b[0m \u001b[0m_setup_model\u001b[0m\u001b[1;33m(\u001b[0m\u001b[0mself\u001b[0m\u001b[1;33m)\u001b[0m \u001b[1;33m->\u001b[0m \u001b[1;32mNone\u001b[0m\u001b[1;33m:\u001b[0m\u001b[1;33m\u001b[0m\u001b[1;33m\u001b[0m\u001b[0m\n\u001b[1;32m--> 155\u001b[1;33m         \u001b[0msuper\u001b[0m\u001b[1;33m(\u001b[0m\u001b[0mPPO\u001b[0m\u001b[1;33m,\u001b[0m \u001b[0mself\u001b[0m\u001b[1;33m)\u001b[0m\u001b[1;33m.\u001b[0m\u001b[0m_setup_model\u001b[0m\u001b[1;33m(\u001b[0m\u001b[1;33m)\u001b[0m\u001b[1;33m\u001b[0m\u001b[1;33m\u001b[0m\u001b[0m\n\u001b[0m\u001b[0;32m    156\u001b[0m \u001b[1;33m\u001b[0m\u001b[0m\n\u001b[0;32m    157\u001b[0m         \u001b[1;31m# Initialize schedules for policy/value clipping\u001b[0m\u001b[1;33m\u001b[0m\u001b[1;33m\u001b[0m\u001b[1;33m\u001b[0m\u001b[0m\n",
      "\u001b[1;32mc:\\Users\\hsain\\.conda\\envs\\stock\\lib\\site-packages\\stable_baselines3\\common\\on_policy_algorithm.py\u001b[0m in \u001b[0;36m_setup_model\u001b[1;34m(self)\u001b[0m\n\u001b[0;32m    123\u001b[0m             \u001b[0mself\u001b[0m\u001b[1;33m.\u001b[0m\u001b[0mlr_schedule\u001b[0m\u001b[1;33m,\u001b[0m\u001b[1;33m\u001b[0m\u001b[1;33m\u001b[0m\u001b[0m\n\u001b[0;32m    124\u001b[0m             \u001b[0muse_sde\u001b[0m\u001b[1;33m=\u001b[0m\u001b[0mself\u001b[0m\u001b[1;33m.\u001b[0m\u001b[0muse_sde\u001b[0m\u001b[1;33m,\u001b[0m\u001b[1;33m\u001b[0m\u001b[1;33m\u001b[0m\u001b[0m\n\u001b[1;32m--> 125\u001b[1;33m             \u001b[1;33m**\u001b[0m\u001b[0mself\u001b[0m\u001b[1;33m.\u001b[0m\u001b[0mpolicy_kwargs\u001b[0m  \u001b[1;31m# pytype:disable=not-instantiable\u001b[0m\u001b[1;33m\u001b[0m\u001b[1;33m\u001b[0m\u001b[0m\n\u001b[0m\u001b[0;32m    126\u001b[0m         )\n\u001b[0;32m    127\u001b[0m         \u001b[0mself\u001b[0m\u001b[1;33m.\u001b[0m\u001b[0mpolicy\u001b[0m \u001b[1;33m=\u001b[0m \u001b[0mself\u001b[0m\u001b[1;33m.\u001b[0m\u001b[0mpolicy\u001b[0m\u001b[1;33m.\u001b[0m\u001b[0mto\u001b[0m\u001b[1;33m(\u001b[0m\u001b[0mself\u001b[0m\u001b[1;33m.\u001b[0m\u001b[0mdevice\u001b[0m\u001b[1;33m)\u001b[0m\u001b[1;33m\u001b[0m\u001b[1;33m\u001b[0m\u001b[0m\n",
      "\u001b[1;32mc:\\Users\\hsain\\Downloads\\ReinforcementLearningCourse-main\\ReinforcementLearningCourse-main\\custom_rl_policy.py\u001b[0m in \u001b[0;36m__init__\u001b[1;34m(self, observation_space, action_space, lr_schedule, net_arch, activation_fn, *args, **kwargs)\u001b[0m\n\u001b[0;32m     80\u001b[0m             \u001b[1;31m# Pass remaining arguments to base class\u001b[0m\u001b[1;33m\u001b[0m\u001b[1;33m\u001b[0m\u001b[1;33m\u001b[0m\u001b[0m\n\u001b[0;32m     81\u001b[0m             \u001b[1;33m*\u001b[0m\u001b[0margs\u001b[0m\u001b[1;33m,\u001b[0m\u001b[1;33m\u001b[0m\u001b[1;33m\u001b[0m\u001b[0m\n\u001b[1;32m---> 82\u001b[1;33m             \u001b[1;33m**\u001b[0m\u001b[0mkwargs\u001b[0m\u001b[1;33m,\u001b[0m\u001b[1;33m\u001b[0m\u001b[1;33m\u001b[0m\u001b[0m\n\u001b[0m\u001b[0;32m     83\u001b[0m         )\n\u001b[0;32m     84\u001b[0m         \u001b[1;31m# Disable orthogonal initialization\u001b[0m\u001b[1;33m\u001b[0m\u001b[1;33m\u001b[0m\u001b[1;33m\u001b[0m\u001b[0m\n",
      "\u001b[1;32mc:\\Users\\hsain\\.conda\\envs\\stock\\lib\\site-packages\\stable_baselines3\\common\\policies.py\u001b[0m in \u001b[0;36m__init__\u001b[1;34m(self, observation_space, action_space, lr_schedule, net_arch, activation_fn, ortho_init, use_sde, log_std_init, full_std, sde_net_arch, use_expln, squash_output, features_extractor_class, features_extractor_kwargs, normalize_images, optimizer_class, optimizer_kwargs)\u001b[0m\n\u001b[0;32m    481\u001b[0m         \u001b[0mself\u001b[0m\u001b[1;33m.\u001b[0m\u001b[0maction_dist\u001b[0m \u001b[1;33m=\u001b[0m \u001b[0mmake_proba_distribution\u001b[0m\u001b[1;33m(\u001b[0m\u001b[0maction_space\u001b[0m\u001b[1;33m,\u001b[0m \u001b[0muse_sde\u001b[0m\u001b[1;33m=\u001b[0m\u001b[0muse_sde\u001b[0m\u001b[1;33m,\u001b[0m \u001b[0mdist_kwargs\u001b[0m\u001b[1;33m=\u001b[0m\u001b[0mdist_kwargs\u001b[0m\u001b[1;33m)\u001b[0m\u001b[1;33m\u001b[0m\u001b[1;33m\u001b[0m\u001b[0m\n\u001b[0;32m    482\u001b[0m \u001b[1;33m\u001b[0m\u001b[0m\n\u001b[1;32m--> 483\u001b[1;33m         \u001b[0mself\u001b[0m\u001b[1;33m.\u001b[0m\u001b[0m_build\u001b[0m\u001b[1;33m(\u001b[0m\u001b[0mlr_schedule\u001b[0m\u001b[1;33m)\u001b[0m\u001b[1;33m\u001b[0m\u001b[1;33m\u001b[0m\u001b[0m\n\u001b[0m\u001b[0;32m    484\u001b[0m \u001b[1;33m\u001b[0m\u001b[0m\n\u001b[0;32m    485\u001b[0m     \u001b[1;32mdef\u001b[0m \u001b[0m_get_constructor_parameters\u001b[0m\u001b[1;33m(\u001b[0m\u001b[0mself\u001b[0m\u001b[1;33m)\u001b[0m \u001b[1;33m->\u001b[0m \u001b[0mDict\u001b[0m\u001b[1;33m[\u001b[0m\u001b[0mstr\u001b[0m\u001b[1;33m,\u001b[0m \u001b[0mAny\u001b[0m\u001b[1;33m]\u001b[0m\u001b[1;33m:\u001b[0m\u001b[1;33m\u001b[0m\u001b[1;33m\u001b[0m\u001b[0m\n",
      "\u001b[1;32mc:\\Users\\hsain\\.conda\\envs\\stock\\lib\\site-packages\\stable_baselines3\\common\\policies.py\u001b[0m in \u001b[0;36m_build\u001b[1;34m(self, lr_schedule)\u001b[0m\n\u001b[0;32m    538\u001b[0m             \u001b[0mlr_schedule\u001b[0m\u001b[1;33m(\u001b[0m\u001b[1;36m1\u001b[0m\u001b[1;33m)\u001b[0m \u001b[1;32mis\u001b[0m \u001b[0mthe\u001b[0m \u001b[0minitial\u001b[0m \u001b[0mlearning\u001b[0m \u001b[0mrate\u001b[0m\u001b[1;33m\u001b[0m\u001b[1;33m\u001b[0m\u001b[0m\n\u001b[0;32m    539\u001b[0m         \"\"\"\n\u001b[1;32m--> 540\u001b[1;33m         \u001b[0mself\u001b[0m\u001b[1;33m.\u001b[0m\u001b[0m_build_mlp_extractor\u001b[0m\u001b[1;33m(\u001b[0m\u001b[1;33m)\u001b[0m\u001b[1;33m\u001b[0m\u001b[1;33m\u001b[0m\u001b[0m\n\u001b[0m\u001b[0;32m    541\u001b[0m \u001b[1;33m\u001b[0m\u001b[0m\n\u001b[0;32m    542\u001b[0m         \u001b[0mlatent_dim_pi\u001b[0m \u001b[1;33m=\u001b[0m \u001b[0mself\u001b[0m\u001b[1;33m.\u001b[0m\u001b[0mmlp_extractor\u001b[0m\u001b[1;33m.\u001b[0m\u001b[0mlatent_dim_pi\u001b[0m\u001b[1;33m\u001b[0m\u001b[1;33m\u001b[0m\u001b[0m\n",
      "\u001b[1;32mc:\\Users\\hsain\\Downloads\\ReinforcementLearningCourse-main\\ReinforcementLearningCourse-main\\custom_rl_policy.py\u001b[0m in \u001b[0;36m_build_mlp_extractor\u001b[1;34m(self)\u001b[0m\n\u001b[0;32m     87\u001b[0m     \u001b[1;32mdef\u001b[0m \u001b[0m_build_mlp_extractor\u001b[0m\u001b[1;33m(\u001b[0m\u001b[0mself\u001b[0m\u001b[1;33m)\u001b[0m \u001b[1;33m->\u001b[0m \u001b[1;32mNone\u001b[0m\u001b[1;33m:\u001b[0m\u001b[1;33m\u001b[0m\u001b[1;33m\u001b[0m\u001b[0m\n\u001b[0;32m     88\u001b[0m         self.mlp_extractor = CustomNetwork( \n\u001b[1;32m---> 89\u001b[1;33m         \u001b[0mself\u001b[0m\u001b[1;33m.\u001b[0m\u001b[0mfeatures_dim\u001b[0m\u001b[1;33m\u001b[0m\u001b[1;33m\u001b[0m\u001b[0m\n\u001b[0m\u001b[0;32m     90\u001b[0m         )\n",
      "\u001b[1;32mc:\\Users\\hsain\\Downloads\\ReinforcementLearningCourse-main\\ReinforcementLearningCourse-main\\custom_rl_policy.py\u001b[0m in \u001b[0;36m__init__\u001b[1;34m(self, features_dim, timesteps, last_layer_dim_pi, last_layer_dim_vf)\u001b[0m\n\u001b[0;32m     37\u001b[0m         \u001b[1;31m# Policy network\u001b[0m\u001b[1;33m\u001b[0m\u001b[1;33m\u001b[0m\u001b[1;33m\u001b[0m\u001b[0m\n\u001b[0;32m     38\u001b[0m         self.policy_net = nn.Sequential(\n\u001b[1;32m---> 39\u001b[1;33m             \u001b[0mnn\u001b[0m\u001b[1;33m.\u001b[0m\u001b[0mLinear\u001b[0m\u001b[1;33m(\u001b[0m\u001b[0mlast_layer_dim_pi\u001b[0m\u001b[1;33m*\u001b[0m\u001b[0mtimesteps\u001b[0m\u001b[1;33m*\u001b[0m\u001b[0mfeatures_dim\u001b[0m\u001b[1;33m,\u001b[0m \u001b[0mlast_layer_dim_pi\u001b[0m\u001b[1;33m*\u001b[0m\u001b[0mfeatures_dim\u001b[0m\u001b[1;33m)\u001b[0m\u001b[1;33m,\u001b[0m \u001b[0mnn\u001b[0m\u001b[1;33m.\u001b[0m\u001b[0mReLU\u001b[0m\u001b[1;33m(\u001b[0m\u001b[1;33m)\u001b[0m\u001b[1;33m,\u001b[0m\u001b[1;33m\u001b[0m\u001b[1;33m\u001b[0m\u001b[0m\n\u001b[0m\u001b[0;32m     40\u001b[0m             \u001b[0mnn\u001b[0m\u001b[1;33m.\u001b[0m\u001b[0mLinear\u001b[0m\u001b[1;33m(\u001b[0m\u001b[0mlast_layer_dim_pi\u001b[0m\u001b[1;33m*\u001b[0m\u001b[0mfeatures_dim\u001b[0m\u001b[1;33m,\u001b[0m \u001b[0mlast_layer_dim_pi\u001b[0m\u001b[1;33m)\u001b[0m\u001b[1;33m,\u001b[0m \u001b[0mnn\u001b[0m\u001b[1;33m.\u001b[0m\u001b[0mTanh\u001b[0m\u001b[1;33m(\u001b[0m\u001b[1;33m)\u001b[0m\u001b[1;33m\u001b[0m\u001b[1;33m\u001b[0m\u001b[0m\n\u001b[0;32m     41\u001b[0m         )\n",
      "\u001b[1;32mc:\\Users\\hsain\\.conda\\envs\\stock\\lib\\site-packages\\torch\\nn\\modules\\linear.py\u001b[0m in \u001b[0;36m__init__\u001b[1;34m(self, in_features, out_features, bias, device, dtype)\u001b[0m\n\u001b[0;32m     83\u001b[0m         \u001b[0mself\u001b[0m\u001b[1;33m.\u001b[0m\u001b[0min_features\u001b[0m \u001b[1;33m=\u001b[0m \u001b[0min_features\u001b[0m\u001b[1;33m\u001b[0m\u001b[1;33m\u001b[0m\u001b[0m\n\u001b[0;32m     84\u001b[0m         \u001b[0mself\u001b[0m\u001b[1;33m.\u001b[0m\u001b[0mout_features\u001b[0m \u001b[1;33m=\u001b[0m \u001b[0mout_features\u001b[0m\u001b[1;33m\u001b[0m\u001b[1;33m\u001b[0m\u001b[0m\n\u001b[1;32m---> 85\u001b[1;33m         \u001b[0mself\u001b[0m\u001b[1;33m.\u001b[0m\u001b[0mweight\u001b[0m \u001b[1;33m=\u001b[0m \u001b[0mParameter\u001b[0m\u001b[1;33m(\u001b[0m\u001b[0mtorch\u001b[0m\u001b[1;33m.\u001b[0m\u001b[0mempty\u001b[0m\u001b[1;33m(\u001b[0m\u001b[1;33m(\u001b[0m\u001b[0mout_features\u001b[0m\u001b[1;33m,\u001b[0m \u001b[0min_features\u001b[0m\u001b[1;33m)\u001b[0m\u001b[1;33m,\u001b[0m \u001b[1;33m**\u001b[0m\u001b[0mfactory_kwargs\u001b[0m\u001b[1;33m)\u001b[0m\u001b[1;33m)\u001b[0m\u001b[1;33m\u001b[0m\u001b[1;33m\u001b[0m\u001b[0m\n\u001b[0m\u001b[0;32m     86\u001b[0m         \u001b[1;32mif\u001b[0m \u001b[0mbias\u001b[0m\u001b[1;33m:\u001b[0m\u001b[1;33m\u001b[0m\u001b[1;33m\u001b[0m\u001b[0m\n\u001b[0;32m     87\u001b[0m             \u001b[0mself\u001b[0m\u001b[1;33m.\u001b[0m\u001b[0mbias\u001b[0m \u001b[1;33m=\u001b[0m \u001b[0mParameter\u001b[0m\u001b[1;33m(\u001b[0m\u001b[0mtorch\u001b[0m\u001b[1;33m.\u001b[0m\u001b[0mempty\u001b[0m\u001b[1;33m(\u001b[0m\u001b[0mout_features\u001b[0m\u001b[1;33m,\u001b[0m \u001b[1;33m**\u001b[0m\u001b[0mfactory_kwargs\u001b[0m\u001b[1;33m)\u001b[0m\u001b[1;33m)\u001b[0m\u001b[1;33m\u001b[0m\u001b[1;33m\u001b[0m\u001b[0m\n",
      "\u001b[1;31mRuntimeError\u001b[0m: [enforce fail at ..\\c10\\core\\CPUAllocator.cpp:76] data. DefaultCPUAllocator: not enough memory: you tried to allocate 34681651200 bytes."
     ]
    }
   ],
   "source": [
    "# policy_kwargs = dict(activation_fn=th.nn.ReLU,\n",
    "#                      net_arch=[dict(pi=[256, 128, 128, 64, 64], vf=[256, 128, 128, 64, 64])])\n",
    "\n",
    "model_2 = PPO(\"MlpPolicy\",env_2, verbose=1, tensorboard_log=log_path, device=\"cuda\", learning_rate=linear_schedule(0.007), batch_size=256)\n",
    "model_2.learn(total_timesteps=10000000, callback=entropy_schedule_callback)"
   ]
  },
  {
   "cell_type": "code",
   "execution_count": null,
   "metadata": {},
   "outputs": [],
   "source": []
  },
  {
   "cell_type": "code",
   "execution_count": null,
   "metadata": {},
   "outputs": [],
   "source": []
  },
  {
   "cell_type": "code",
   "execution_count": null,
   "metadata": {},
   "outputs": [],
   "source": [
    "env_3 = MyCustomEnv(df=new_df, window_size=12, frame_bound=(1750,1800))\n",
    "# env_maker_2 = lambda: env_3\n",
    "# env_3 = DummyVecEnv([env_maker_2])\n",
    "# env_3 = make_vec_env(env_maker_2, n_envs=3)\n",
    "# env_2 = make_vec_env(env_maker_2, n_envs=3, vec_env_cls=SubprocVecEnv)\n",
    "obs = env_3.reset()\n",
    "while True:\n",
    "    obs = obs[np.newaxis, ...]\n",
    "    action, _states = model_2.predict(obs)\n",
    "    obs, reward, done, info = env_3.step(action)\n",
    "    if done:\n",
    "        print(\"info \", info)\n",
    "        break\n",
    "plt.figure(figsize=(50,16))\n",
    "plt.cla()\n",
    "env_3.render_all()\n",
    "plt.show()"
   ]
  },
  {
   "cell_type": "code",
   "execution_count": null,
   "metadata": {},
   "outputs": [],
   "source": [
    "env_maker = lambda: gym.make('stocks-v0', df=new_df, frame_bound=(30,100), window_size=30)\n",
    "env = DummyVecEnv([env_maker])"
   ]
  },
  {
   "cell_type": "code",
   "execution_count": null,
   "metadata": {},
   "outputs": [],
   "source": [
    "model.get_env().num_envs"
   ]
  },
  {
   "cell_type": "code",
   "execution_count": null,
   "metadata": {},
   "outputs": [],
   "source": [
    "model = A2C(\"MlpLstmPolicy\", env, verbose=1)"
   ]
  },
  {
   "cell_type": "code",
   "execution_count": null,
   "metadata": {},
   "outputs": [],
   "source": [
    "model.learn(total_timesteps=100000)"
   ]
  },
  {
   "cell_type": "code",
   "execution_count": null,
   "metadata": {},
   "outputs": [],
   "source": [
    "env = gym.make('stocks-v0', df=new_df, frame_bound=(2400,2443), window_size=30)\n",
    "obs = env.reset()\n",
    "while True:\n",
    "    obs = obs[np.newaxis, ...]\n",
    "    action, _states = model.predict(obs)\n",
    "    obs, reward, done, info = env.step(action)\n",
    "    if done:\n",
    "        print(\"info \", info)\n",
    "        break\n",
    "plt.figure(figsize=(50,50))\n",
    "plt.cla()\n",
    "env.render_all()\n",
    "plt.show()"
   ]
  },
  {
   "cell_type": "code",
   "execution_count": null,
   "metadata": {},
   "outputs": [],
   "source": []
  }
 ],
 "metadata": {
  "kernelspec": {
   "display_name": "stock",
   "language": "python",
   "name": "python3"
  },
  "language_info": {
   "codemirror_mode": {
    "name": "ipython",
    "version": 3
   },
   "file_extension": ".py",
   "mimetype": "text/x-python",
   "name": "python",
   "nbconvert_exporter": "python",
   "pygments_lexer": "ipython3",
   "version": "3.6.13"
  },
  "orig_nbformat": 4,
  "vscode": {
   "interpreter": {
    "hash": "5dc36b92c09bd4f06b8618a50a389b86019d81ebbb819f8bdcd3686a41dcb0cb"
   }
  }
 },
 "nbformat": 4,
 "nbformat_minor": 2
}
